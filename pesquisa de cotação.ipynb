{
 "cells": [
  {
   "cell_type": "code",
   "execution_count": 2,
   "id": "a4274e6a",
   "metadata": {},
   "outputs": [],
   "source": [
    "from selenium import webdriver\n",
    "from selenium.webdriver.common.keys import Keys\n",
    "from selenium.webdriver.common.by import By\n"
   ]
  },
  {
   "cell_type": "code",
   "execution_count": 38,
   "id": "c6693dfd",
   "metadata": {},
   "outputs": [
    {
     "name": "stdout",
     "output_type": "stream",
     "text": [
      "4.9415\n",
      "5.3980999999999995\n"
     ]
    }
   ],
   "source": [
    "#colocando o nome do web driver como navegador\n",
    "navegador = webdriver.Chrome()\n",
    "\n",
    "#codigo para pesquisar google\n",
    "navegador.get('https://www.google.com.br/')\n",
    "\n",
    "#pesquisar o valor do dolar\n",
    "navegador.find_element(By.XPATH,'//*[@id=\"APjFqb\"]').send_keys('cotação dolar')\n",
    "navegador.find_element(By.XPATH,'//*[@id=\"APjFqb\"]').send_keys(Keys.ENTER)\n",
    "\n",
    "#pegar o valor do dolar e depois mostra aqui\n",
    "cotacao_dolar = navegador.find_element(By.XPATH,'//*[@id=\"knowledge-currency__updatable-data-column\"]/div[1]/div[2]/span[1]').get_attribute('data-value')\n",
    "print(cotacao_dolar)\n",
    "\n",
    "#clicar no nome do google para ir para a pagina inicial do google\n",
    "navegador.find_element(By.XPATH, '//*[@id=\"logo\"]/img').click()\n",
    "\n",
    "#pesquisou a cotação do euro\n",
    "navegador.find_element(By.XPATH,'//*[@id=\"APjFqb\"]').send_keys('cotação euro')\n",
    "navegador.find_element(By.XPATH,'//*[@id=\"APjFqb\"]').send_keys(Keys.ENTER)\n",
    "\n",
    "#pegar o valor do euro e depois mostra aqui\n",
    "cotacao_euro = navegador.find_element(By.XPATH, '//*[@id=\"knowledge-currency__updatable-data-column\"]/div[1]/div[2]/span[1]').get_attribute('data-value')\n",
    "print(cotacao_euro)\n",
    "\n",
    "navegador.quit()"
   ]
  }
 ],
 "metadata": {
  "kernelspec": {
   "display_name": "Python 3 (ipykernel)",
   "language": "python",
   "name": "python3"
  },
  "language_info": {
   "codemirror_mode": {
    "name": "ipython",
    "version": 3
   },
   "file_extension": ".py",
   "mimetype": "text/x-python",
   "name": "python",
   "nbconvert_exporter": "python",
   "pygments_lexer": "ipython3",
   "version": "3.9.13"
  }
 },
 "nbformat": 4,
 "nbformat_minor": 5
}
